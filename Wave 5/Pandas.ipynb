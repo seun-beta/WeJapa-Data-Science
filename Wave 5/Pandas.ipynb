{
 "cells": [
  {
   "cell_type": "code",
   "execution_count": 1,
   "metadata": {},
   "outputs": [
    {
     "name": "stdout",
     "output_type": "stream",
     "text": [
      "                Author           Book Title  User 1  User 2  User 3  User 4\n",
      "0      Charles Dickens   Great Expectations     3.2     5.0     2.0     4.0\n",
      "1       John Steinbeck      Of Mice and Men     NaN     1.3     2.3     3.5\n",
      "2  William Shakespeare     Romeo and Juliet     2.5     4.0     NaN     4.0\n",
      "3          H. G. Wells     The Time Machine     NaN     3.8     4.0     5.0\n",
      "4        Lewis Carroll  Alice in Wonderland     NaN     NaN     NaN     4.2\n",
      "                Author           Book Title  User 1  User 2  User 3  User 4\n",
      "0      Charles Dickens   Great Expectations     3.2     5.0     2.0     4.0\n",
      "1       John Steinbeck      Of Mice and Men     2.9     1.3     2.3     3.5\n",
      "2  William Shakespeare     Romeo and Juliet     2.5     4.0     2.8     4.0\n",
      "3          H. G. Wells     The Time Machine     2.9     3.8     4.0     5.0\n",
      "4        Lewis Carroll  Alice in Wonderland     2.9     3.5     2.8     4.2\n"
     ]
    }
   ],
   "source": [
    "import pandas as pd\n",
    "import numpy as np\n",
    "\n",
    "# Since we will be working with ratings, we will set the precision of our \n",
    "# dataframes to one decimal place.\n",
    "pd.set_option('precision', 1)\n",
    "\n",
    "# Create a Pandas DataFrame that contains the ratings some users have given to a\n",
    "# series of books. The ratings given are in the range from 1 to 5, with 5 being\n",
    "# the best score. The names of the books, the authors, and the ratings of each user\n",
    "# are given below:\n",
    "\n",
    "books = pd.Series(data = ['Great Expectations', 'Of Mice and Men', 'Romeo and Juliet', 'The Time Machine', 'Alice in Wonderland' ])\n",
    "authors = pd.Series(data = ['Charles Dickens', 'John Steinbeck', 'William Shakespeare', ' H. G. Wells', 'Lewis Carroll' ])\n",
    "\n",
    "user_1 = pd.Series(data = [3.2, np.nan ,2.5])\n",
    "user_2 = pd.Series(data = [5., 1.3, 4.0, 3.8])\n",
    "user_3 = pd.Series(data = [2.0, 2.3, np.nan, 4])\n",
    "user_4 = pd.Series(data = [4, 3.5, 4, 5, 4.2])\n",
    "\n",
    "# Users that have np.nan values means that the user has not yet rated that book.\n",
    "# Use the data above to create a Pandas DataFrame that has the following column\n",
    "# labels: 'Author', 'Book Title', 'User 1', 'User 2', 'User 3', 'User 4'. Let Pandas\n",
    "# automatically assign numerical row indices to the DataFrame. \n",
    "\n",
    "# Create a dictionary with the data given above\n",
    "data = {'Author': authors,'Book Title': books, 'User 1': user_1, 'User 2' : user_2, 'User 3': user_3, 'User 4': user_4}\n",
    "\n",
    "# Use the dictionary to create a Pandas DataFrame\n",
    "book_ratings = pd.DataFrame(data) \n",
    "print (book_ratings)\n",
    "\n",
    "# If you created the dictionary correctly you should have a Pandas DataFrame\n",
    "# that has column labels: 'Author', 'Book Title', 'User 1', 'User 2', 'User 3',\n",
    "# 'User 4' and row indices 0 through 4.\n",
    "\n",
    "# Now replace all the NaN values in your DataFrame with the average rating in\n",
    "# each column. Replace the NaN values in place. HINT: you can use the fillna()\n",
    "# function with the keyword inplace = True, to do this. Write your code below:\n",
    "book_ratings['User 1'].fillna(np.mean(book_ratings['User 1']),inplace=True)\n",
    "book_ratings['User 2'].fillna(np.mean(book_ratings['User 2']),inplace=True)\n",
    "book_ratings['User 3'].fillna(np.mean(book_ratings['User 3']),inplace=True)\n",
    "book_ratings['User 4'].fillna(np.mean(book_ratings['User 4']),inplace=True)\n",
    "print(book_ratings)\n"
   ]
  },
  {
   "cell_type": "code",
   "execution_count": 2,
   "metadata": {},
   "outputs": [
    {
     "name": "stdout",
     "output_type": "stream",
     "text": [
      "Earth       8.3\n",
      "Saturn     79.6\n",
      "Mars       12.7\n",
      "Venus       6.0\n",
      "Jupiter    43.3\n",
      "dtype: float64\n",
      "Earth     8.3\n",
      "Mars     12.7\n",
      "Venus     6.0\n",
      "dtype: float64\n"
     ]
    }
   ],
   "source": [
    "import pandas as pd\n",
    "import numpy as np\n",
    "\n",
    "# Create a Pandas Series that contains the distance of some planets from the Sun.\n",
    "# Use the name of the planets as the index to your Pandas Series, and the distance\n",
    "# from the Sun as your data. The distance from the Sun is in units of 10^6 km\n",
    "\n",
    "distance_from_sun = [149.6, 1433.5, 227.9, 108.2, 778.6]\n",
    "\n",
    "planets = ['Earth','Saturn', 'Mars','Venus', 'Jupiter']\n",
    "\n",
    "# Create a Pandas Series using the above data, with the name of the planets as\n",
    "# the index and the distance from the Sun as your data.\n",
    "dist_planets = pd.Series(data = distance_from_sun, index = planets)\n",
    "\n",
    "# Calculate the number of minutes it takes sunlight to reach each planet. You can\n",
    "# do this by dividing the distance from the Sun for each planet by the speed of light.\n",
    "# Since in the data above the distance from the Sun is in units of 10^6 km, you can\n",
    "# use a value for the speed of light of c = 18, since light travels 18 x 10^6 km/minute.\n",
    "c = 18\n",
    "time_light = dist_planets/ c\n",
    "print (time_light)\n",
    "# Use Boolean indexing to select only those planets for which sunlight takes less\n",
    "# than 40 minutes to reach them.\n",
    "close_planets = time_light[time_light<40]\n",
    "print (close_planets)"
   ]
  },
  {
   "cell_type": "code",
   "execution_count": null,
   "metadata": {},
   "outputs": [],
   "source": []
  }
 ],
 "metadata": {
  "kernelspec": {
   "display_name": "Python 3",
   "language": "python",
   "name": "python3"
  },
  "language_info": {
   "codemirror_mode": {
    "name": "ipython",
    "version": 3
   },
   "file_extension": ".py",
   "mimetype": "text/x-python",
   "name": "python",
   "nbconvert_exporter": "python",
   "pygments_lexer": "ipython3",
   "version": "3.6.11"
  }
 },
 "nbformat": 4,
 "nbformat_minor": 4
}
