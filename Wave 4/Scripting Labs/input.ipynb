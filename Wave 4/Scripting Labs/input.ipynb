#Write a script that does the following:

#Ask for user input 3 times. Once for a list of names, once for a list of missing assignment counts, and once for a list of grades. Use this input to create lists for names, assignments, and grades.
#Use a loop to print the message for each student with the correct values. The potential grade is simply the current grade added to two times the number of missing assignments.
#Template code for your script:
import itertools
names =  input ('Please input your names with a space after each name: ')
names_list = names.split()
assignments =  input('Please input the number of missing assignments for each student: ')
assignments_list = assignments.split()
grades = input('Please input the grades of the students: ')
grades_list = grades.split()

# message string to be used for each student
# HINT: use .format() with this string in your for loop
for name,assignment, grade in zip(names_list,assignments_list,grades_list) :
    potential_grade = float(grade) + (2*int(assignment)) 
    message = "Hi {},\n\nThis is a reminder that you have {} assignments left to \
    submit before you can graduate. You're current grade is {} and can increase \
    to {} if you submit all assignments before the due date.\n\n"
    print (message.format(name,assignment, grade, potential_grade))

# write a for loop that iterates through each set of names, assignments, and grades to print each student's message