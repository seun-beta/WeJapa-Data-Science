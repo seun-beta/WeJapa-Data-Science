#For the following practice question you will need to write code in Python in the workspace below. This will allow you to practice the concepts discussed in the Scripting lesson, such as reading and writing files. You will see some older concepts too, but again, we have them there to review and reinforce your understanding of those concepts.

#Question: Create a function that opens the flowers.txt, reads every line in it, and saves it as a dictionary. The main (separate) function should take user input (user's first name and last name) and parse the user input to identify the first letter of the first name. It should then use it to print the flower name with the same first letter (from dictionary created in the first function).

#Sample Output:

#>>> Enter your First [space] Last name only: Bill Newman
#>>> Unique flower name with the first letter: Bellflower


# Write your code here 

def flower_name(filename) :
    f_handle = open(filename)
    list_letter = []
    list_flower = []
    for line in f_handle :
        line = line.strip()
        line_list = line.split(':')
        list_letter.append(line_list[0])
        list_flower.append(line_list[1])
    flower_dict = dict(zip(list_letter,list_flower))
    return flower_dict

dictionary = flower_name('flowers.txt')

def user_name():
    user_input = input('>>> Enter your First and Last name only: ')
    letter = user_input[0]
    flower = dictionary[letter]
    print ('>>> Unique flower name with the first letter:{}'.format(flower))
# HINT: create a dictionary from flowers.txt

# HINT: create a function
user_name()       
