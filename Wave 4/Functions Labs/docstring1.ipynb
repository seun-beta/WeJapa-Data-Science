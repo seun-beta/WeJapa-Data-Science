def readable_timedelta(days):
    '''Calculate the weeks and remaining days
    Input:
    days: int. The number of days
    Output:
    readable_timedelta: week(s) = days//7 day(s) = days%7 
    The number of weeks and days in a given day input'''
    

    weeks = days // 7
    remainder = days % 7
    return "{} week(s) and {} day(s)".format(weeks, remainder)